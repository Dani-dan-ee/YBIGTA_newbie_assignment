{
 "cells": [
  {
   "cell_type": "code",
   "execution_count": null,
   "id": "7320d785",
   "metadata": {},
   "outputs": [],
   "source": [
    "########문제1##########\n",
    "#데이터 불러오기 및 구조 확인\n",
    "import seaborn as sns\n",
    "iris = sns.load_dataset('iris')\n",
    "print(iris.head())"
   ]
  },
  {
   "cell_type": "code",
   "execution_count": null,
   "id": "281f12e7",
   "metadata": {},
   "outputs": [],
   "source": [
    "# Species별 Petal Length에 대한 기술통계량 산출\n",
    "desc = iris.groupby('species')['petal_length'].describe()\n",
    "count = iris['species'].value_counts()\n",
    "print(desc)\n",
    "print(count)"
   ]
  },
  {
   "cell_type": "code",
   "execution_count": null,
   "id": "8bf88295",
   "metadata": {},
   "outputs": [],
   "source": [
    "#시각화\n",
    "import matplotlib.pyplot as plt\n",
    "sns.boxplot(x='species', y='petal_length', data=iris)\n",
    "plt.title(\"Species_Petal_Length_Boxplot\")\n",
    "plt.show()"
   ]
  },
  {
   "cell_type": "code",
   "execution_count": null,
   "id": "77e93775",
   "metadata": {},
   "outputs": [],
   "source": [
    "#정규성 검정\n",
    "from scipy.stats import shapiro\n",
    "for species in iris['species'].unique():\n",
    "    stat, p = shapiro(iris[iris['species'] == species]['petal_length'])\n",
    "    print(f\"{species}: p-value = {p:.4f}\")"
   ]
  },
  {
   "cell_type": "code",
   "execution_count": null,
   "id": "af79b4d9",
   "metadata": {},
   "outputs": [],
   "source": [
    "#등분산성 검정\n",
    "from scipy.stats import levene\n",
    "setosa = iris[iris['species'] == 'setosa']['petal_length']\n",
    "versicolor = iris[iris['species'] == 'versicolor']['petal_length']\n",
    "virginica = iris[iris['species'] == 'virginica']['petal_length']\n",
    "stat, p = levene(setosa, versicolor, virginica)\n",
    "print(f\"Levene p-value = {p:.4f}\")"
   ]
  },
  {
   "cell_type": "code",
   "execution_count": null,
   "id": "6ceb2701",
   "metadata": {},
   "outputs": [],
   "source": [
    "#ANOVA 실행\n",
    "from scipy.stats import f_oneway\n",
    "f_stat, p = f_oneway(setosa, versicolor, virginica)\n",
    "print(f\"F-statistic = {f_stat:.4f}, p-value = {p:.4f}\")"
   ]
  },
  {
   "cell_type": "code",
   "execution_count": null,
   "id": "01b3d926",
   "metadata": {
    "lines_to_next_cell": 2
   },
   "outputs": [],
   "source": [
    "#사후검정\n",
    "from statsmodels.stats.multicomp import pairwise_tukeyhsd\n",
    "tukey = pairwise_tukeyhsd(endog=iris['petal_length'], groups=iris['species'], alpha=0.05)\n",
    "print(tukey.summary())"
   ]
  },
  {
   "cell_type": "code",
   "execution_count": null,
   "id": "00e16454",
   "metadata": {},
   "outputs": [],
   "source": [
    "##############문제2################\n",
    "##1.데이터 로드 및 기본 탐색\n",
    "import pandas as pd\n",
    "import numpy as np"
   ]
  },
  {
   "cell_type": "code",
   "execution_count": null,
   "id": "be695f2c",
   "metadata": {},
   "outputs": [],
   "source": [
    "# 데이터 로드\n",
    "df = pd.read_csv('C:/Users/da396/creditcard.csv')"
   ]
  },
  {
   "cell_type": "code",
   "execution_count": null,
   "id": "a404c7b0",
   "metadata": {},
   "outputs": [],
   "source": [
    "# 데이터 구조 확인\n",
    "print(df.head())\n",
    "print(df.info())\n",
    "print(df.describe())"
   ]
  },
  {
   "cell_type": "code",
   "execution_count": null,
   "id": "b7e10299",
   "metadata": {},
   "outputs": [],
   "source": [
    "# Class 비율 확인\n",
    "print('정상 거래(Class=0) 건수:', (df['Class'] == 0).sum())\n",
    "print('사기 거래(Class=1) 건수:', (df['Class'] == 1).sum())\n",
    "print('전체 거래 중 사기 거래 비율:', round((df['Class'] == 1).mean()*100, 4), '%')"
   ]
  },
  {
   "cell_type": "code",
   "execution_count": null,
   "id": "7015f6b0",
   "metadata": {},
   "outputs": [],
   "source": [
    "## 2.샘플링\n",
    "# 사기 거래는 모두 유지\n",
    "fraud = df[df['Class'] == 1]"
   ]
  },
  {
   "cell_type": "code",
   "execution_count": null,
   "id": "d3d218af",
   "metadata": {},
   "outputs": [],
   "source": [
    "# 정상 거래는 10,000건만 무작위 샘플링 \n",
    "normal = df[df['Class'] == 0].sample(n=10000, random_state=42)"
   ]
  },
  {
   "cell_type": "code",
   "execution_count": null,
   "id": "7e170a61",
   "metadata": {},
   "outputs": [],
   "source": [
    "# 두 데이터 합치기\n",
    "df_sampled = pd.concat([fraud, normal])"
   ]
  },
  {
   "cell_type": "code",
   "execution_count": null,
   "id": "9ee50fb1",
   "metadata": {},
   "outputs": [],
   "source": [
    "# Class 비율 재확인\n",
    "print(df_sampled['Class'].value_counts(normalize=True))\n",
    "print(df_sampled['Class'].value_counts())\n",
    "print('샘플링 후 전체 거래 중 사기 거래 비율:', round((df_sampled['Class'] == 1).mean()*100, 4), '%')"
   ]
  },
  {
   "cell_type": "code",
   "execution_count": null,
   "id": "1cafbb14",
   "metadata": {},
   "outputs": [],
   "source": [
    "## 3.데이터 전처리\n",
    "from sklearn.preprocessing import StandardScaler"
   ]
  },
  {
   "cell_type": "code",
   "execution_count": null,
   "id": "dc36806b",
   "metadata": {},
   "outputs": [],
   "source": [
    "# Amount 표준화 (Amount_Scaled로 대체)\n",
    "scaler = StandardScaler()\n",
    "df_sampled['Amount_Scaled'] = scaler.fit_transform(df_sampled[['Amount']])\n",
    "df_sampled = df_sampled.drop('Amount', axis=1)"
   ]
  },
  {
   "cell_type": "code",
   "execution_count": null,
   "id": "a6597fc8",
   "metadata": {},
   "outputs": [],
   "source": [
    "# X, y 분리\n",
    "X = df_sampled.drop('Class', axis=1)\n",
    "y = df_sampled['Class']"
   ]
  },
  {
   "cell_type": "code",
   "execution_count": null,
   "id": "a918fce3",
   "metadata": {},
   "outputs": [],
   "source": [
    "## 4.학습 데이터와 테스트 데이터 분할\n",
    "from sklearn.model_selection import train_test_split"
   ]
  },
  {
   "cell_type": "code",
   "execution_count": null,
   "id": "6494b43b",
   "metadata": {},
   "outputs": [],
   "source": [
    "# 학습:테스트 = 8:2\n",
    "X_train, X_test, y_train, y_test = train_test_split(\n",
    "    X, y, test_size=0.2, stratify=y, random_state=42\n",
    ")\n",
    "print('학습셋 클래스 비율:\\n', y_train.value_counts(normalize=True))\n",
    "print('테스트셋 클래스 비율:\\n', y_test.value_counts(normalize=True))"
   ]
  },
  {
   "cell_type": "code",
   "execution_count": null,
   "id": "bf55b75b",
   "metadata": {},
   "outputs": [],
   "source": [
    "## 5.SMOTE 적용\n",
    "from imblearn.over_sampling import SMOTE"
   ]
  },
  {
   "cell_type": "code",
   "execution_count": null,
   "id": "d3034203",
   "metadata": {},
   "outputs": [],
   "source": [
    "# SMOTE 적용 전\n",
    "print('SMOTE 적용 전 클래스 분포:', y_train.value_counts())"
   ]
  },
  {
   "cell_type": "code",
   "execution_count": null,
   "id": "6a2474fa",
   "metadata": {},
   "outputs": [],
   "source": [
    "# SMOTE 적용 (random_state=42)\n",
    "smote = SMOTE(random_state=42)\n",
    "X_train_sm, y_train_sm = smote.fit_resample(X_train, y_train)"
   ]
  },
  {
   "cell_type": "code",
   "execution_count": null,
   "id": "9ea02683",
   "metadata": {},
   "outputs": [],
   "source": [
    "# SMOTE 적용 후\n",
    "print('SMOTE 적용 후 클래스 분포:', y_train_sm.value_counts())"
   ]
  },
  {
   "cell_type": "code",
   "execution_count": null,
   "id": "dcbd72e5",
   "metadata": {},
   "outputs": [],
   "source": [
    "## 6.모델 학습 및 평가\n",
    "from sklearn.ensemble import RandomForestClassifier\n",
    "from sklearn.metrics import classification_report, average_precision_score"
   ]
  },
  {
   "cell_type": "code",
   "execution_count": null,
   "id": "3bc1b92d",
   "metadata": {},
   "outputs": [],
   "source": [
    "# 모델 학습\n",
    "clf = RandomForestClassifier(random_state=42, class_weight='balanced', n_estimators=100)\n",
    "clf.fit(X_train_sm, y_train_sm)"
   ]
  },
  {
   "cell_type": "code",
   "execution_count": null,
   "id": "ea5c7ea1",
   "metadata": {},
   "outputs": [],
   "source": [
    "# 예측값 및 예측 확률\n",
    "y_pred = clf.predict(X_test)\n",
    "y_proba = clf.predict_proba(X_test)[:, 1]"
   ]
  },
  {
   "cell_type": "code",
   "execution_count": null,
   "id": "5728570f",
   "metadata": {},
   "outputs": [],
   "source": [
    "# 평가지표 출력\n",
    "print('classification_report\\n', classification_report(y_test, y_pred, digits=4))\n",
    "print('PR-AUC:', average_precision_score(y_test, y_proba))"
   ]
  },
  {
   "cell_type": "code",
   "execution_count": null,
   "id": "f14617a6",
   "metadata": {},
   "outputs": [],
   "source": [
    "# threshold 조정\n",
    "custom_threshold = 0.2\n",
    "y_pred_custom = (y_proba >= custom_threshold).astype(int)\n",
    "print(classification_report(y_test, y_pred_custom, digits=4))\n",
    "print('조정 후 PR-AUC:', average_precision_score(y_test, y_proba))"
   ]
  },
  {
   "cell_type": "code",
   "execution_count": null,
   "id": "958f4779",
   "metadata": {},
   "outputs": [],
   "source": []
  }
 ],
 "metadata": {
  "jupytext": {
   "cell_metadata_filter": "-all",
   "main_language": "python",
   "notebook_metadata_filter": "-all"
  }
 },
 "nbformat": 4,
 "nbformat_minor": 5
}
